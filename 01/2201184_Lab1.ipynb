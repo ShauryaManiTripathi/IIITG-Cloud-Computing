{
 "cells": [
  {
   "cell_type": "markdown",
   "metadata": {},
   "source": [
    "# Lab 1 solution of Roll No 2201184"
   ]
  },
  {
   "cell_type": "markdown",
   "metadata": {},
   "source": [
    "# Question: 1"
   ]
  },
  {
   "cell_type": "code",
   "execution_count": 1,
   "metadata": {},
   "outputs": [
    {
     "name": "stdout",
     "output_type": "stream",
     "text": [
      "['s', 'h', 'a', 'u', 'r', 'y', 'a']\n"
     ]
    }
   ],
   "source": [
    "string='shaurya'\n",
    "def funcc(string):\n",
    "    return list(string)\n",
    "print(funcc(string))"
   ]
  },
  {
   "cell_type": "markdown",
   "metadata": {},
   "source": [
    "# Question: 2"
   ]
  },
  {
   "cell_type": "code",
   "execution_count": 2,
   "metadata": {},
   "outputs": [
    {
     "name": "stdout",
     "output_type": "stream",
     "text": [
      "['s', 'h', 'a', 'u', 'r', 'y', 'a']\n",
      "shaurya\n"
     ]
    }
   ],
   "source": [
    "string='shaurya'\n",
    "\n",
    "listofchars = list(string)\n",
    "print(listofchars)\n",
    "def funcc(listofchars):\n",
    "    return ''.join(listofchars)\n",
    "print(funcc(listofchars))"
   ]
  },
  {
   "cell_type": "markdown",
   "metadata": {},
   "source": [
    "# Question: 3"
   ]
  },
  {
   "cell_type": "code",
   "execution_count": 5,
   "metadata": {},
   "outputs": [
    {
     "name": "stdout",
     "output_type": "stream",
     "text": [
      "[0.57, 0.62, 0.68, 0.03, 1.0]\n"
     ]
    }
   ],
   "source": [
    "\n",
    "import random\n",
    "n = 5\n",
    "def funcc(n):\n",
    "    listofn = []\n",
    "    for i in range(n):\n",
    "        x=random.randint(1,100)\n",
    "        listofn.append(x/100)\n",
    "    return listofn\n",
    "print(funcc(n))"
   ]
  },
  {
   "cell_type": "markdown",
   "metadata": {},
   "source": [
    "# Question: 4"
   ]
  },
  {
   "cell_type": "code",
   "execution_count": 4,
   "metadata": {},
   "outputs": [
    {
     "name": "stdout",
     "output_type": "stream",
     "text": [
      "[10, 9, 8, 7, 6, 5, 4, 3, 2, 1]\n"
     ]
    }
   ],
   "source": [
    "listofnum=[1,2,3,4,5,6,7,8,9,10]\n",
    "def sortedlist(listofnum):\n",
    "    return sorted(listofnum)[::-1]\n",
    "\n",
    "print(sortedlist(listofnum))"
   ]
  },
  {
   "cell_type": "markdown",
   "metadata": {},
   "source": [
    "# Question: 5"
   ]
  },
  {
   "cell_type": "code",
   "execution_count": 6,
   "metadata": {},
   "outputs": [
    {
     "name": "stdout",
     "output_type": "stream",
     "text": [
      "1 : 1\n",
      "2 : 2\n",
      "3 : 1\n",
      "4 : 2\n",
      "5 : 1\n",
      "6 : 1\n",
      "7 : 1\n",
      "8 : 1\n",
      "9 : 1\n",
      "10 : 1\n"
     ]
    }
   ],
   "source": [
    "listofitems=[1,2,3,4,2,4,5,6,7,8,9,10]\n",
    "def dictofitems(listofitems):\n",
    "    dictofitems = {}\n",
    "\n",
    "    for i in listofitems:\n",
    "        if i in dictofitems:\n",
    "            dictofitems[i] += 1\n",
    "        else:\n",
    "            dictofitems[i] = 1\n",
    "    return dictofitems\n",
    "\n",
    "dictofitem=dictofitems(listofitems)\n",
    "for i in dictofitem:\n",
    "    print(f\"{i} : {dictofitem[i]}\")"
   ]
  },
  {
   "cell_type": "markdown",
   "metadata": {},
   "source": [
    "# Question: 6"
   ]
  },
  {
   "cell_type": "code",
   "execution_count": 6,
   "metadata": {},
   "outputs": [
    {
     "name": "stdout",
     "output_type": "stream",
     "text": [
      "[1, 2, 3, 4, 5, 6, 7, 8, 9, 10]\n"
     ]
    }
   ],
   "source": [
    "\n",
    "listofitems=[1,1,1,1,1,1,1,1,1,1,1,1,1,2,3,4,2,4,5,6,7,8,9,10]\n",
    "funcc= lambda x: list(set(x))\n",
    "setofitems = funcc(listofitems)\n",
    "print(setofitems)\n",
    "\n",
    "\n"
   ]
  },
  {
   "cell_type": "markdown",
   "metadata": {},
   "source": [
    "# Question: 7"
   ]
  },
  {
   "cell_type": "code",
   "execution_count": 7,
   "metadata": {},
   "outputs": [
    {
     "name": "stdout",
     "output_type": "stream",
     "text": [
      "First duplicate is 3\n"
     ]
    }
   ],
   "source": [
    "listofitems=[1,2,3,4,5,6,7,8,3]\n",
    "dictofitems = {}\n",
    "def firstduplicate(listofitems):\n",
    "    for i in listofitems:\n",
    "        if i in dictofitems:\n",
    "            print(f\"First duplicate is {i}\")\n",
    "            break\n",
    "        else:\n",
    "            dictofitems[i] = 1\n",
    "firstduplicate(listofitems)"
   ]
  },
  {
   "cell_type": "markdown",
   "metadata": {},
   "source": [
    "# Question: 8"
   ]
  },
  {
   "cell_type": "code",
   "execution_count": 8,
   "metadata": {},
   "outputs": [
    {
     "name": "stdout",
     "output_type": "stream",
     "text": [
      "0 : [0, 0]\n",
      "1 : [1, 1]\n",
      "2 : [4, 8]\n",
      "3 : [9, 27]\n",
      "4 : [16, 64]\n",
      "5 : [25, 125]\n",
      "6 : [36, 216]\n",
      "7 : [49, 343]\n",
      "8 : [64, 512]\n",
      "9 : [81, 729]\n",
      "10 : [100, 1000]\n"
     ]
    }
   ],
   "source": [
    "n=int(input(\"Enter the number of elements: \"))\n",
    "def funcc(n):\n",
    "    dictofitems = {}\n",
    "\n",
    "\n",
    "    for i in range(n+1):\n",
    "        dictofitems[i] = [i**2,i**3]\n",
    "    return dictofitems\n",
    "\n",
    "dictofitems=funcc(n)\n",
    "for i in dictofitems:\n",
    "    print(f\"{i} : {dictofitems[i]}\")"
   ]
  },
  {
   "cell_type": "markdown",
   "metadata": {},
   "source": [
    "# Question: 9"
   ]
  },
  {
   "cell_type": "code",
   "execution_count": 9,
   "metadata": {},
   "outputs": [
    {
     "name": "stdout",
     "output_type": "stream",
     "text": [
      "[(1, 'a'), (2, 'b'), (3, 'c'), (4, 'd')]\n"
     ]
    }
   ],
   "source": [
    "def create_tuples(list1, list2):\n",
    "    return list(zip(list1, list2))\n",
    "\n",
    "list1 = [1, 2, 3, 4]\n",
    "list2 = ['a', 'b', 'c', 'd']\n",
    "result = create_tuples(list1, list2)\n",
    "print(result)"
   ]
  },
  {
   "cell_type": "markdown",
   "metadata": {},
   "source": [
    "# Question: 10"
   ]
  },
  {
   "cell_type": "code",
   "execution_count": 10,
   "metadata": {},
   "outputs": [
    {
     "name": "stdout",
     "output_type": "stream",
     "text": [
      "[0, 1, 4, 9, 16, 25, 36, 49, 64, 81, 100]\n"
     ]
    }
   ],
   "source": [
    "n=10\n",
    "listofsquares=lambda n:[i**2 for i in range(n+1)]\n",
    "print(listofsquares(n))"
   ]
  },
  {
   "cell_type": "markdown",
   "metadata": {},
   "source": [
    "# Question: 11"
   ]
  },
  {
   "cell_type": "code",
   "execution_count": 32,
   "metadata": {},
   "outputs": [
    {
     "name": "stdout",
     "output_type": "stream",
     "text": [
      "0.9491288874661431\n",
      "0 : 0\n",
      "1 : 1\n",
      "2 : 4\n",
      "3 : 9\n",
      "4 : 16\n",
      "5 : 25\n",
      "6 : 36\n",
      "7 : 49\n",
      "8 : 64\n",
      "9 : 81\n",
      "10 : 100\n"
     ]
    }
   ],
   "source": [
    "n=10\n",
    "x=random.random()\n",
    "print(x)\n",
    "funcc=lambda n:{i:i**2 for i in range(n+1)}\n",
    "dictofitems=funcc(n)\n",
    "for i in dictofitems:\n",
    "    print(f\"{i} : {dictofitems[i]}\")"
   ]
  },
  {
   "cell_type": "markdown",
   "metadata": {},
   "source": [
    "# Question: 12"
   ]
  },
  {
   "cell_type": "code",
   "execution_count": 33,
   "metadata": {},
   "outputs": [
    {
     "name": "stdout",
     "output_type": "stream",
     "text": [
      "[1, 4, 9, 16, 25, 36, 49, 64, 81, 100]\n"
     ]
    }
   ],
   "source": [
    "class iiitg:\n",
    "    def __init__(self, input_list):\n",
    "        self.input_list = input_list\n",
    "\n",
    "    def apply(self, func):\n",
    "        try:\n",
    "            return func(self.input_list)\n",
    "        except Exception as e:\n",
    "            raise Exception(\"Error occurred while applying the function: \" + str(e))\n",
    "        \n",
    "squarelist = lambda x: [i**2 for i in x]\n",
    "\n",
    "squares=iiitg([1,2,3,4,5,6,7,8,9,10]).apply(squarelist)\n",
    "print(squares)"
   ]
  },
  {
   "cell_type": "markdown",
   "metadata": {},
   "source": [
    "# Question: 13"
   ]
  },
  {
   "cell_type": "code",
   "execution_count": 34,
   "metadata": {},
   "outputs": [
    {
     "name": "stdout",
     "output_type": "stream",
     "text": [
      "['TARE', 'HAI', 'CHAND', 'KE', 'NICHE']\n"
     ]
    }
   ],
   "source": [
    "listofwords=['tare','hai','chand','ke','niche']\n",
    "\n",
    "#use funtools.reduce , make upper case all\n",
    "# import functools\n",
    "# def funct(a,b):\n",
    "#     if isinstance(a,list):\n",
    "#         return a+[b.upper()]\n",
    "#     else:\n",
    "#         return [a.upper()]+[b.upper()]\n",
    "#capitalized = functools.reduce(funct, listofwords)\n",
    "#capitalized = functools.reduce(lambda a, b: a+[b.upper()] if isinstance(a, list) else [a.upper()]+[b.upper()], listofwords)\n",
    "\n",
    "\n",
    "#use functool.map, make upper case all\n",
    "capitalized = list(map(lambda x: x.upper(), listofwords))\n",
    "\n",
    "print(capitalized)"
   ]
  },
  {
   "cell_type": "markdown",
   "metadata": {},
   "source": [
    "# Question: 14"
   ]
  },
  {
   "cell_type": "code",
   "execution_count": 35,
   "metadata": {},
   "outputs": [
    {
     "name": "stdout",
     "output_type": "stream",
     "text": [
      "120\n"
     ]
    },
    {
     "data": {
      "text/plain": [
       "(None,)"
      ]
     },
     "execution_count": 35,
     "metadata": {},
     "output_type": "execute_result"
    }
   ],
   "source": [
    "import functools\n",
    "\n",
    "def find_product(numbers):\n",
    "    def multiply(x,y):\n",
    "        return x*y\n",
    "    product = functools.reduce(multiply, numbers)\n",
    "    #product = functools.reduce(lambda x, y: x * y, numbers)\n",
    "    return product\n",
    "\n",
    "# Example usage\n",
    "input_list = [1, 2, 3, 4, 5]\n",
    "result = find_product(input_list)\n",
    "print(result),"
   ]
  }
 ],
 "metadata": {
  "kernelspec": {
   "display_name": "Python 3",
   "language": "python",
   "name": "python3"
  },
  "language_info": {
   "codemirror_mode": {
    "name": "ipython",
    "version": 3
   },
   "file_extension": ".py",
   "mimetype": "text/x-python",
   "name": "python",
   "nbconvert_exporter": "python",
   "pygments_lexer": "ipython3",
   "version": "3.12.4"
  }
 },
 "nbformat": 4,
 "nbformat_minor": 2
}
